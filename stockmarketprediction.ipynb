{
 "cells": [
  {
   "cell_type": "code",
   "execution_count": 2,
   "id": "691b9458-9a5a-4a37-80d6-d90b2e4749dd",
   "metadata": {},
   "outputs": [
    {
     "name": "stdout",
     "output_type": "stream",
     "text": [
      "Requirement already satisfied: plotly==5.22.0 in c:\\users\\m s i\\anaconda3\\lib\\site-packages (5.22.0)\n",
      "Requirement already satisfied: tenacity>=6.2.0 in c:\\users\\m s i\\anaconda3\\lib\\site-packages (from plotly==5.22.0) (8.2.2)\n",
      "Requirement already satisfied: packaging in c:\\users\\m s i\\anaconda3\\lib\\site-packages (from plotly==5.22.0) (23.1)\n",
      "Note: you may need to restart the kernel to use updated packages.\n"
     ]
    }
   ],
   "source": [
    "pip install plotly==5.22.0"
   ]
  },
  {
   "cell_type": "code",
   "execution_count": 1,
   "id": "9270c864-d6b9-41f8-99fe-d9fb513d0a8a",
   "metadata": {},
   "outputs": [],
   "source": [
    "import numpy as np\n",
    "import pandas as pd\n",
    "import matplotlib.pyplot as plt\n",
    "%matplotlib inline\n",
    "\n",
    "# import chart_studio.plotly as py\n",
    "# import plotly.graph_objs as go\n",
    "# from plotly.offline import plot\n",
    "\n",
    "# from plotly.offline import download_plotlyjs,init_notebook_mode,plot,iplot\n",
    "# init_notebook_mode(connected=True)"
   ]
  },
  {
   "cell_type": "markdown",
   "id": "35c99114-b5fd-47d4-bf42-ae3f63eee513",
   "metadata": {},
   "source": [
    "### Readind the CSV file"
   ]
  },
  {
   "cell_type": "code",
   "execution_count": 2,
   "id": "8960060a-9df4-4e7a-ae11-1f38af3c82e6",
   "metadata": {},
   "outputs": [],
   "source": [
    "amazon=pd.read_csv(\"AMZN.csv\")"
   ]
  },
  {
   "cell_type": "markdown",
   "id": "38519a94-e647-41bf-8e00-da495b2c5c97",
   "metadata": {},
   "source": [
    "### Data inspection and Cleaning\n"
   ]
  },
  {
   "cell_type": "code",
   "execution_count": 3,
   "id": "e7ab630e-fa81-4bf2-9d92-00bed5a45c7b",
   "metadata": {},
   "outputs": [
    {
     "data": {
      "text/html": [
       "<div>\n",
       "<style scoped>\n",
       "    .dataframe tbody tr th:only-of-type {\n",
       "        vertical-align: middle;\n",
       "    }\n",
       "\n",
       "    .dataframe tbody tr th {\n",
       "        vertical-align: top;\n",
       "    }\n",
       "\n",
       "    .dataframe thead th {\n",
       "        text-align: right;\n",
       "    }\n",
       "</style>\n",
       "<table border=\"1\" class=\"dataframe\">\n",
       "  <thead>\n",
       "    <tr style=\"text-align: right;\">\n",
       "      <th></th>\n",
       "      <th>Date</th>\n",
       "      <th>Open</th>\n",
       "      <th>High</th>\n",
       "      <th>Low</th>\n",
       "      <th>Close</th>\n",
       "      <th>Adj Close</th>\n",
       "      <th>Volume</th>\n",
       "    </tr>\n",
       "  </thead>\n",
       "  <tbody>\n",
       "    <tr>\n",
       "      <th>0</th>\n",
       "      <td>1997-05-15</td>\n",
       "      <td>0.121875</td>\n",
       "      <td>0.125000</td>\n",
       "      <td>0.096354</td>\n",
       "      <td>0.097917</td>\n",
       "      <td>0.097917</td>\n",
       "      <td>1443120000</td>\n",
       "    </tr>\n",
       "    <tr>\n",
       "      <th>1</th>\n",
       "      <td>1997-05-16</td>\n",
       "      <td>0.098438</td>\n",
       "      <td>0.098958</td>\n",
       "      <td>0.085417</td>\n",
       "      <td>0.086458</td>\n",
       "      <td>0.086458</td>\n",
       "      <td>294000000</td>\n",
       "    </tr>\n",
       "    <tr>\n",
       "      <th>2</th>\n",
       "      <td>1997-05-19</td>\n",
       "      <td>0.088021</td>\n",
       "      <td>0.088542</td>\n",
       "      <td>0.081250</td>\n",
       "      <td>0.085417</td>\n",
       "      <td>0.085417</td>\n",
       "      <td>122136000</td>\n",
       "    </tr>\n",
       "    <tr>\n",
       "      <th>3</th>\n",
       "      <td>1997-05-20</td>\n",
       "      <td>0.086458</td>\n",
       "      <td>0.087500</td>\n",
       "      <td>0.081771</td>\n",
       "      <td>0.081771</td>\n",
       "      <td>0.081771</td>\n",
       "      <td>109344000</td>\n",
       "    </tr>\n",
       "    <tr>\n",
       "      <th>4</th>\n",
       "      <td>1997-05-21</td>\n",
       "      <td>0.081771</td>\n",
       "      <td>0.082292</td>\n",
       "      <td>0.068750</td>\n",
       "      <td>0.071354</td>\n",
       "      <td>0.071354</td>\n",
       "      <td>377064000</td>\n",
       "    </tr>\n",
       "  </tbody>\n",
       "</table>\n",
       "</div>"
      ],
      "text/plain": [
       "         Date      Open      High       Low     Close  Adj Close      Volume\n",
       "0  1997-05-15  0.121875  0.125000  0.096354  0.097917   0.097917  1443120000\n",
       "1  1997-05-16  0.098438  0.098958  0.085417  0.086458   0.086458   294000000\n",
       "2  1997-05-19  0.088021  0.088542  0.081250  0.085417   0.085417   122136000\n",
       "3  1997-05-20  0.086458  0.087500  0.081771  0.081771   0.081771   109344000\n",
       "4  1997-05-21  0.081771  0.082292  0.068750  0.071354   0.071354   377064000"
      ]
     },
     "execution_count": 3,
     "metadata": {},
     "output_type": "execute_result"
    }
   ],
   "source": [
    "amazon.head()"
   ]
  },
  {
   "cell_type": "code",
   "execution_count": 4,
   "id": "fb3d103d-e5d7-49f8-bec6-8a6a12d60b1c",
   "metadata": {},
   "outputs": [
    {
     "name": "stdout",
     "output_type": "stream",
     "text": [
      "<class 'pandas.core.frame.DataFrame'>\n",
      "RangeIndex: 6516 entries, 0 to 6515\n",
      "Data columns (total 7 columns):\n",
      " #   Column     Non-Null Count  Dtype  \n",
      "---  ------     --------------  -----  \n",
      " 0   Date       6516 non-null   object \n",
      " 1   Open       6516 non-null   float64\n",
      " 2   High       6516 non-null   float64\n",
      " 3   Low        6516 non-null   float64\n",
      " 4   Close      6516 non-null   float64\n",
      " 5   Adj Close  6516 non-null   float64\n",
      " 6   Volume     6516 non-null   int64  \n",
      "dtypes: float64(5), int64(1), object(1)\n",
      "memory usage: 356.5+ KB\n"
     ]
    }
   ],
   "source": [
    "amazon.info()"
   ]
  },
  {
   "cell_type": "code",
   "execution_count": 5,
   "id": "ca3773f9-e511-4b73-98b3-ce27c31ac8ef",
   "metadata": {},
   "outputs": [],
   "source": [
    "amazon['Date']=pd.to_datetime(amazon['Date'])"
   ]
  },
  {
   "cell_type": "code",
   "execution_count": 6,
   "id": "f379dbfe-86f4-49b4-96ec-0d68d6101fa3",
   "metadata": {},
   "outputs": [
    {
     "name": "stdout",
     "output_type": "stream",
     "text": [
      "Datafrane contains stock prices between 1997-05-15 00:00:00 2023-04-05 00:00:00\n",
      "Total days=9456days\n"
     ]
    }
   ],
   "source": [
    "print(f'Datafrane contains stock prices between {amazon.Date.min()} {amazon.Date.max()}')\n",
    "print(f'Total days={(amazon.Date.max()-amazon.Date.min()).days}days')"
   ]
  },
  {
   "cell_type": "code",
   "execution_count": 7,
   "id": "205c92c8-553d-4ea0-86a2-57e64d6d5986",
   "metadata": {},
   "outputs": [
    {
     "data": {
      "text/html": [
       "<div>\n",
       "<style scoped>\n",
       "    .dataframe tbody tr th:only-of-type {\n",
       "        vertical-align: middle;\n",
       "    }\n",
       "\n",
       "    .dataframe tbody tr th {\n",
       "        vertical-align: top;\n",
       "    }\n",
       "\n",
       "    .dataframe thead th {\n",
       "        text-align: right;\n",
       "    }\n",
       "</style>\n",
       "<table border=\"1\" class=\"dataframe\">\n",
       "  <thead>\n",
       "    <tr style=\"text-align: right;\">\n",
       "      <th></th>\n",
       "      <th>Date</th>\n",
       "      <th>Open</th>\n",
       "      <th>High</th>\n",
       "      <th>Low</th>\n",
       "      <th>Close</th>\n",
       "      <th>Adj Close</th>\n",
       "      <th>Volume</th>\n",
       "    </tr>\n",
       "  </thead>\n",
       "  <tbody>\n",
       "    <tr>\n",
       "      <th>1</th>\n",
       "      <td>1997-05-16</td>\n",
       "      <td>0.098438</td>\n",
       "      <td>0.098958</td>\n",
       "      <td>0.085417</td>\n",
       "      <td>0.086458</td>\n",
       "      <td>0.086458</td>\n",
       "      <td>294000000</td>\n",
       "    </tr>\n",
       "    <tr>\n",
       "      <th>2</th>\n",
       "      <td>1997-05-19</td>\n",
       "      <td>0.088021</td>\n",
       "      <td>0.088542</td>\n",
       "      <td>0.081250</td>\n",
       "      <td>0.085417</td>\n",
       "      <td>0.085417</td>\n",
       "      <td>122136000</td>\n",
       "    </tr>\n",
       "    <tr>\n",
       "      <th>3</th>\n",
       "      <td>1997-05-20</td>\n",
       "      <td>0.086458</td>\n",
       "      <td>0.087500</td>\n",
       "      <td>0.081771</td>\n",
       "      <td>0.081771</td>\n",
       "      <td>0.081771</td>\n",
       "      <td>109344000</td>\n",
       "    </tr>\n",
       "    <tr>\n",
       "      <th>5</th>\n",
       "      <td>1997-05-22</td>\n",
       "      <td>0.071875</td>\n",
       "      <td>0.072396</td>\n",
       "      <td>0.065625</td>\n",
       "      <td>0.069792</td>\n",
       "      <td>0.069792</td>\n",
       "      <td>235536000</td>\n",
       "    </tr>\n",
       "    <tr>\n",
       "      <th>6</th>\n",
       "      <td>1997-05-23</td>\n",
       "      <td>0.070313</td>\n",
       "      <td>0.076042</td>\n",
       "      <td>0.066667</td>\n",
       "      <td>0.075000</td>\n",
       "      <td>0.075000</td>\n",
       "      <td>318744000</td>\n",
       "    </tr>\n",
       "    <tr>\n",
       "      <th>...</th>\n",
       "      <td>...</td>\n",
       "      <td>...</td>\n",
       "      <td>...</td>\n",
       "      <td>...</td>\n",
       "      <td>...</td>\n",
       "      <td>...</td>\n",
       "      <td>...</td>\n",
       "    </tr>\n",
       "    <tr>\n",
       "      <th>4054</th>\n",
       "      <td>2013-06-26</td>\n",
       "      <td>13.699000</td>\n",
       "      <td>13.899000</td>\n",
       "      <td>13.675000</td>\n",
       "      <td>13.878500</td>\n",
       "      <td>13.878500</td>\n",
       "      <td>60590000</td>\n",
       "    </tr>\n",
       "    <tr>\n",
       "      <th>4055</th>\n",
       "      <td>2013-06-27</td>\n",
       "      <td>13.959000</td>\n",
       "      <td>14.010000</td>\n",
       "      <td>13.727000</td>\n",
       "      <td>13.877500</td>\n",
       "      <td>13.877500</td>\n",
       "      <td>50390000</td>\n",
       "    </tr>\n",
       "    <tr>\n",
       "      <th>4056</th>\n",
       "      <td>2013-06-28</td>\n",
       "      <td>13.809500</td>\n",
       "      <td>13.991500</td>\n",
       "      <td>13.809500</td>\n",
       "      <td>13.884500</td>\n",
       "      <td>13.884500</td>\n",
       "      <td>63866000</td>\n",
       "    </tr>\n",
       "    <tr>\n",
       "      <th>4097</th>\n",
       "      <td>2013-08-27</td>\n",
       "      <td>14.193500</td>\n",
       "      <td>14.264000</td>\n",
       "      <td>13.987000</td>\n",
       "      <td>14.046500</td>\n",
       "      <td>14.046500</td>\n",
       "      <td>49520000</td>\n",
       "    </tr>\n",
       "    <tr>\n",
       "      <th>4100</th>\n",
       "      <td>2013-08-30</td>\n",
       "      <td>14.229500</td>\n",
       "      <td>14.243500</td>\n",
       "      <td>14.000000</td>\n",
       "      <td>14.049000</td>\n",
       "      <td>14.049000</td>\n",
       "      <td>30694000</td>\n",
       "    </tr>\n",
       "  </tbody>\n",
       "</table>\n",
       "<p>3705 rows × 7 columns</p>\n",
       "</div>"
      ],
      "text/plain": [
       "           Date       Open       High        Low      Close  Adj Close  \\\n",
       "1    1997-05-16   0.098438   0.098958   0.085417   0.086458   0.086458   \n",
       "2    1997-05-19   0.088021   0.088542   0.081250   0.085417   0.085417   \n",
       "3    1997-05-20   0.086458   0.087500   0.081771   0.081771   0.081771   \n",
       "5    1997-05-22   0.071875   0.072396   0.065625   0.069792   0.069792   \n",
       "6    1997-05-23   0.070313   0.076042   0.066667   0.075000   0.075000   \n",
       "...         ...        ...        ...        ...        ...        ...   \n",
       "4054 2013-06-26  13.699000  13.899000  13.675000  13.878500  13.878500   \n",
       "4055 2013-06-27  13.959000  14.010000  13.727000  13.877500  13.877500   \n",
       "4056 2013-06-28  13.809500  13.991500  13.809500  13.884500  13.884500   \n",
       "4097 2013-08-27  14.193500  14.264000  13.987000  14.046500  14.046500   \n",
       "4100 2013-08-30  14.229500  14.243500  14.000000  14.049000  14.049000   \n",
       "\n",
       "         Volume  \n",
       "1     294000000  \n",
       "2     122136000  \n",
       "3     109344000  \n",
       "5     235536000  \n",
       "6     318744000  \n",
       "...         ...  \n",
       "4054   60590000  \n",
       "4055   50390000  \n",
       "4056   63866000  \n",
       "4097   49520000  \n",
       "4100   30694000  \n",
       "\n",
       "[3705 rows x 7 columns]"
      ]
     },
     "execution_count": 7,
     "metadata": {},
     "output_type": "execute_result"
    }
   ],
   "source": [
    "#Handle outliers using IQR method\n",
    "for column in amazon.columns:\n",
    "    Q1=amazon[column].quantile(0.25)\n",
    "    Q3=amazon[column].quantile(0.75)\n",
    "    IQR=Q3-Q1\n",
    "    amazon=amazon[~((amazon[column]<(Q1-1.5*IQR))|(amazon[column]>(Q3+1.5*IQR)) )]\n",
    "amazon"
   ]
  },
  {
   "cell_type": "markdown",
   "id": "aeb6a42a-b3d1-4095-bb07-ba6cd5c072da",
   "metadata": {},
   "source": [
    "### Descriptive Statistics"
   ]
  },
  {
   "cell_type": "code",
   "execution_count": 8,
   "id": "235f2833-47ba-46a7-ac89-7728ff551dcc",
   "metadata": {},
   "outputs": [
    {
     "data": {
      "text/html": [
       "<div>\n",
       "<style scoped>\n",
       "    .dataframe tbody tr th:only-of-type {\n",
       "        vertical-align: middle;\n",
       "    }\n",
       "\n",
       "    .dataframe tbody tr th {\n",
       "        vertical-align: top;\n",
       "    }\n",
       "\n",
       "    .dataframe thead th {\n",
       "        text-align: right;\n",
       "    }\n",
       "</style>\n",
       "<table border=\"1\" class=\"dataframe\">\n",
       "  <thead>\n",
       "    <tr style=\"text-align: right;\">\n",
       "      <th></th>\n",
       "      <th>Date</th>\n",
       "      <th>Open</th>\n",
       "      <th>High</th>\n",
       "      <th>Low</th>\n",
       "      <th>Close</th>\n",
       "      <th>Adj Close</th>\n",
       "      <th>Volume</th>\n",
       "    </tr>\n",
       "  </thead>\n",
       "  <tbody>\n",
       "    <tr>\n",
       "      <th>count</th>\n",
       "      <td>3705</td>\n",
       "      <td>3705.000000</td>\n",
       "      <td>3705.000000</td>\n",
       "      <td>3705.000000</td>\n",
       "      <td>3705.000000</td>\n",
       "      <td>3705.000000</td>\n",
       "      <td>3.705000e+03</td>\n",
       "    </tr>\n",
       "    <tr>\n",
       "      <th>mean</th>\n",
       "      <td>2005-10-23 10:09:25.506072832</td>\n",
       "      <td>3.962165</td>\n",
       "      <td>4.025995</td>\n",
       "      <td>3.895350</td>\n",
       "      <td>3.962149</td>\n",
       "      <td>3.962149</td>\n",
       "      <td>1.406068e+08</td>\n",
       "    </tr>\n",
       "    <tr>\n",
       "      <th>min</th>\n",
       "      <td>1997-05-16 00:00:00</td>\n",
       "      <td>0.070313</td>\n",
       "      <td>0.072396</td>\n",
       "      <td>0.065625</td>\n",
       "      <td>0.069792</td>\n",
       "      <td>0.069792</td>\n",
       "      <td>9.744000e+06</td>\n",
       "    </tr>\n",
       "    <tr>\n",
       "      <th>25%</th>\n",
       "      <td>2002-01-17 00:00:00</td>\n",
       "      <td>1.580500</td>\n",
       "      <td>1.615000</td>\n",
       "      <td>1.537000</td>\n",
       "      <td>1.582500</td>\n",
       "      <td>1.582500</td>\n",
       "      <td>9.442600e+07</td>\n",
       "    </tr>\n",
       "    <tr>\n",
       "      <th>50%</th>\n",
       "      <td>2005-11-16 00:00:00</td>\n",
       "      <td>2.456250</td>\n",
       "      <td>2.505000</td>\n",
       "      <td>2.408500</td>\n",
       "      <td>2.452500</td>\n",
       "      <td>2.452500</td>\n",
       "      <td>1.296020e+08</td>\n",
       "    </tr>\n",
       "    <tr>\n",
       "      <th>75%</th>\n",
       "      <td>2009-10-02 00:00:00</td>\n",
       "      <td>4.795500</td>\n",
       "      <td>4.862500</td>\n",
       "      <td>4.712500</td>\n",
       "      <td>4.766000</td>\n",
       "      <td>4.766000</td>\n",
       "      <td>1.770020e+08</td>\n",
       "    </tr>\n",
       "    <tr>\n",
       "      <th>max</th>\n",
       "      <td>2013-08-30 00:00:00</td>\n",
       "      <td>14.229500</td>\n",
       "      <td>14.264000</td>\n",
       "      <td>14.000000</td>\n",
       "      <td>14.053500</td>\n",
       "      <td>14.053500</td>\n",
       "      <td>3.446000e+08</td>\n",
       "    </tr>\n",
       "    <tr>\n",
       "      <th>std</th>\n",
       "      <td>NaN</td>\n",
       "      <td>3.656187</td>\n",
       "      <td>3.695163</td>\n",
       "      <td>3.614186</td>\n",
       "      <td>3.656867</td>\n",
       "      <td>3.656867</td>\n",
       "      <td>6.555982e+07</td>\n",
       "    </tr>\n",
       "  </tbody>\n",
       "</table>\n",
       "</div>"
      ],
      "text/plain": [
       "                                Date         Open         High          Low  \\\n",
       "count                           3705  3705.000000  3705.000000  3705.000000   \n",
       "mean   2005-10-23 10:09:25.506072832     3.962165     4.025995     3.895350   \n",
       "min              1997-05-16 00:00:00     0.070313     0.072396     0.065625   \n",
       "25%              2002-01-17 00:00:00     1.580500     1.615000     1.537000   \n",
       "50%              2005-11-16 00:00:00     2.456250     2.505000     2.408500   \n",
       "75%              2009-10-02 00:00:00     4.795500     4.862500     4.712500   \n",
       "max              2013-08-30 00:00:00    14.229500    14.264000    14.000000   \n",
       "std                              NaN     3.656187     3.695163     3.614186   \n",
       "\n",
       "             Close    Adj Close        Volume  \n",
       "count  3705.000000  3705.000000  3.705000e+03  \n",
       "mean      3.962149     3.962149  1.406068e+08  \n",
       "min       0.069792     0.069792  9.744000e+06  \n",
       "25%       1.582500     1.582500  9.442600e+07  \n",
       "50%       2.452500     2.452500  1.296020e+08  \n",
       "75%       4.766000     4.766000  1.770020e+08  \n",
       "max      14.053500    14.053500  3.446000e+08  \n",
       "std       3.656867     3.656867  6.555982e+07  "
      ]
     },
     "execution_count": 8,
     "metadata": {},
     "output_type": "execute_result"
    }
   ],
   "source": [
    "amazon.describe()"
   ]
  },
  {
   "cell_type": "markdown",
   "id": "c32fbca5-a9a4-4c25-beb6-b20fdcc06100",
   "metadata": {},
   "source": [
    "### Data Visualization"
   ]
  },
  {
   "cell_type": "code",
   "execution_count": 9,
   "id": "d57607b9-af24-49dc-9d71-f612dde6712b",
   "metadata": {},
   "outputs": [
    {
     "data": {
      "text/plain": [
       "<Axes: >"
      ]
     },
     "execution_count": 9,
     "metadata": {},
     "output_type": "execute_result"
    },
    {
     "data": {
      "image/png": "[encoded data removed]",
      "text/plain": [
       "<Figure size 640x480 with 1 Axes>"
      ]
     },
     "metadata": {},
     "output_type": "display_data"
    }
   ],
   "source": [
    "amazon[['Open','High','Low','Close','Adj Close']].plot(kind='box')"
   ]
  },
  {
   "cell_type": "code",
   "execution_count": 10,
   "id": "9e8306ed-c84c-48a7-ad7f-63bddd76898c",
   "metadata": {},
   "outputs": [
    {
     "data": {
      "text/plain": [
       "Text(0, 0.5, 'Closing Price')"
      ]
     },
     "execution_count": 10,
     "metadata": {},
     "output_type": "execute_result"
    },
    {
     "data": {
      "image/png": "[encoded data removed]",
      "text/plain": [
       "<Figure size 1200x600 with 1 Axes>"
      ]
     },
     "metadata": {},
     "output_type": "display_data"
    }
   ],
   "source": [
    "plt.figure(figsize=(12,6))\n",
    "plt.plot(amazon['Date'],amazon['Close'])\n",
    "plt.title(\"Close price overs Days\")\n",
    "plt.xlabel(\"Days\")\n",
    "plt.ylabel(\"Closing Price\")"
   ]
  },
  {
   "cell_type": "markdown",
   "id": "0a91a2fc-f09d-4ed8-8454-e2b3d347bc1c",
   "metadata": {},
   "source": [
    "### Building Regression Model"
   ]
  },
  {
   "cell_type": "code",
   "execution_count": 11,
   "id": "b66a99f7-9709-45a2-ab37-bb00b6c2c173",
   "metadata": {},
   "outputs": [],
   "source": [
    "from sklearn.model_selection import train_test_split\n",
    "\n",
    "#for preprocessing\n",
    "from sklearn.preprocessing import MinMaxScaler\n",
    "from sklearn.preprocessing import StandardScaler\n",
    "\n",
    "#for model evaluation\n",
    "from sklearn.metrics import mean_squared_error\n",
    "from sklearn.metrics import r2_score\n"
   ]
  },
  {
   "cell_type": "code",
   "execution_count": 12,
   "id": "76b234ec-b4a1-4d77-b0e9-8200772e19b4",
   "metadata": {},
   "outputs": [],
   "source": [
    "#splitting the feature and target\n",
    "x=np.array(amazon.index).reshape(-1,1)\n",
    "y=amazon['Close']\n"
   ]
  },
  {
   "cell_type": "code",
   "execution_count": 13,
   "id": "2a248c75-e232-42ee-8506-bffd01f24955",
   "metadata": {},
   "outputs": [],
   "source": [
    "#splitting  the data into train and test set\n",
    "X_train,X_test,y_train,y_test=train_test_split(x,y,test_size=0.2,random_state=42)"
   ]
  },
  {
   "cell_type": "code",
   "execution_count": 14,
   "id": "3db5f30f-f0ca-4c40-a4f1-f42db1d8a033",
   "metadata": {},
   "outputs": [],
   "source": [
    "#Feature Scaling\n",
    "scaler=StandardScaler().fit(X_train)\n"
   ]
  },
  {
   "cell_type": "code",
   "execution_count": 15,
   "id": "7bef101a-583e-4da7-a455-4e69ce58410a",
   "metadata": {},
   "outputs": [],
   "source": [
    "from sklearn.linear_model import LinearRegression"
   ]
  },
  {
   "cell_type": "code",
   "execution_count": 16,
   "id": "d2eb2ef5-cea9-4e95-b4f1-a136bc9cd5b1",
   "metadata": {},
   "outputs": [
    {
     "data": {
      "text/html": [
       "<style>#sk-container-id-1 {color: black;background-color: white;}#sk-container-id-1 pre{padding: 0;}#sk-container-id-1 div.sk-toggleable {background-color: white;}#sk-container-id-1 label.sk-toggleable__label {cursor: pointer;display: block;width: 100%;margin-bottom: 0;padding: 0.3em;box-sizing: border-box;text-align: center;}#sk-container-id-1 label.sk-toggleable__label-arrow:before {content: \"▸\";float: left;margin-right: 0.25em;color: #696969;}#sk-container-id-1 label.sk-toggleable__label-arrow:hover:before {color: black;}#sk-container-id-1 div.sk-estimator:hover label.sk-toggleable__label-arrow:before {color: black;}#sk-container-id-1 div.sk-toggleable__content {max-height: 0;max-width: 0;overflow: hidden;text-align: left;background-color: #f0f8ff;}#sk-container-id-1 div.sk-toggleable__content pre {margin: 0.2em;color: black;border-radius: 0.25em;background-color: #f0f8ff;}#sk-container-id-1 input.sk-toggleable__control:checked~div.sk-toggleable__content {max-height: 200px;max-width: 100%;overflow: auto;}#sk-container-id-1 input.sk-toggleable__control:checked~label.sk-toggleable__label-arrow:before {content: \"▾\";}#sk-container-id-1 div.sk-estimator input.sk-toggleable__control:checked~label.sk-toggleable__label {background-color: #d4ebff;}#sk-container-id-1 div.sk-label input.sk-toggleable__control:checked~label.sk-toggleable__label {background-color: #d4ebff;}#sk-container-id-1 input.sk-hidden--visually {border: 0;clip: rect(1px 1px 1px 1px);clip: rect(1px, 1px, 1px, 1px);height: 1px;margin: -1px;overflow: hidden;padding: 0;position: absolute;width: 1px;}#sk-container-id-1 div.sk-estimator {font-family: monospace;background-color: #f0f8ff;border: 1px dotted black;border-radius: 0.25em;box-sizing: border-box;margin-bottom: 0.5em;}#sk-container-id-1 div.sk-estimator:hover {background-color: #d4ebff;}#sk-container-id-1 div.sk-parallel-item::after {content: \"\";width: 100%;border-bottom: 1px solid gray;flex-grow: 1;}#sk-container-id-1 div.sk-label:hover label.sk-toggleable__label {background-color: #d4ebff;}#sk-container-id-1 div.sk-serial::before {content: \"\";position: absolute;border-left: 1px solid gray;box-sizing: border-box;top: 0;bottom: 0;left: 50%;z-index: 0;}#sk-container-id-1 div.sk-serial {display: flex;flex-direction: column;align-items: center;background-color: white;padding-right: 0.2em;padding-left: 0.2em;position: relative;}#sk-container-id-1 div.sk-item {position: relative;z-index: 1;}#sk-container-id-1 div.sk-parallel {display: flex;align-items: stretch;justify-content: center;background-color: white;position: relative;}#sk-container-id-1 div.sk-item::before, #sk-container-id-1 div.sk-parallel-item::before {content: \"\";position: absolute;border-left: 1px solid gray;box-sizing: border-box;top: 0;bottom: 0;left: 50%;z-index: -1;}#sk-container-id-1 div.sk-parallel-item {display: flex;flex-direction: column;z-index: 1;position: relative;background-color: white;}#sk-container-id-1 div.sk-parallel-item:first-child::after {align-self: flex-end;width: 50%;}#sk-container-id-1 div.sk-parallel-item:last-child::after {align-self: flex-start;width: 50%;}#sk-container-id-1 div.sk-parallel-item:only-child::after {width: 0;}#sk-container-id-1 div.sk-dashed-wrapped {border: 1px dashed gray;margin: 0 0.4em 0.5em 0.4em;box-sizing: border-box;padding-bottom: 0.4em;background-color: white;}#sk-container-id-1 div.sk-label label {font-family: monospace;font-weight: bold;display: inline-block;line-height: 1.2em;}#sk-container-id-1 div.sk-label-container {text-align: center;}#sk-container-id-1 div.sk-container {/* jupyter's `normalize.less` sets `[hidden] { display: none; }` but bootstrap.min.css set `[hidden] { display: none !important; }` so we also need the `!important` here to be able to override the default hidden behavior on the sphinx rendered scikit-learn.org. See: https://github.com/scikit-learn/scikit-learn/issues/21755 */display: inline-block !important;position: relative;}#sk-container-id-1 div.sk-text-repr-fallback {display: none;}</style><div id=\"sk-container-id-1\" class=\"sk-top-container\"><div class=\"sk-text-repr-fallback\"><pre>LinearRegression()</pre><b>In a Jupyter environment, please rerun this cell to show the HTML representation or trust the notebook. <br />On GitHub, the HTML representation is unable to render, please try loading this page with nbviewer.org.</b></div><div class=\"sk-container\" hidden><div class=\"sk-item\"><div class=\"sk-estimator sk-toggleable\"><input class=\"sk-toggleable__control sk-hidden--visually\" id=\"sk-estimator-id-1\" type=\"checkbox\" checked><label for=\"sk-estimator-id-1\" class=\"sk-toggleable__label sk-toggleable__label-arrow\">LinearRegression</label><div class=\"sk-toggleable__content\"><pre>LinearRegression()</pre></div></div></div></div></div>"
      ],
      "text/plain": [
       "LinearRegression()"
      ]
     },
     "execution_count": 16,
     "metadata": {},
     "output_type": "execute_result"
    }
   ],
   "source": [
    "#creating a linear model\n",
    "linearreg=LinearRegression()\n",
    "linearreg.fit(X_train,y_train)"
   ]
  },
  {
   "cell_type": "code",
   "execution_count": 17,
   "id": "4d878d57-d0a7-46e7-9ec4-742c48ca3b19",
   "metadata": {},
   "outputs": [],
   "source": [
    "y_pred=linearreg.predict(X_test)"
   ]
  },
  {
   "cell_type": "code",
   "execution_count": 18,
   "id": "12a2a5d6-837b-4156-b560-e1643dcf1f76",
   "metadata": {},
   "outputs": [
    {
     "data": {
      "text/plain": [
       "array([ 8.70615800e+00,  1.84227223e+00,  4.50426162e+00,  1.05129611e+00,\n",
       "        1.08020222e+00,  3.62919502e+00,  7.80481313e+00, -7.34141136e-02,\n",
       "        7.23720236e+00,  8.16745334e+00,  4.02074134e+00, -2.41595082e-01,\n",
       "       -9.43225060e-01,  3.37429574e+00,  5.60794923e+00,  4.05227527e+00,\n",
       "       -1.16659041e+00,  2.53076307e+00,  6.24651134e+00,  7.26348063e+00,\n",
       "        2.86712501e+00,  7.64451564e+00,  6.99281439e+00,  2.14184458e+00,\n",
       "        1.66357995e+00,  6.24913917e+00,  2.45981172e+00,  1.40868067e+00,\n",
       "        3.18771998e+00,  5.17435767e+00,  6.54082803e+00,  2.12870544e+00,\n",
       "       -1.39258358e+00, -1.35053834e+00,  7.64977130e+00,  5.70780668e+00,\n",
       "        1.53218857e+00,  8.93740683e+00, -1.55288107e+00,  3.66861243e+00,\n",
       "        4.30980238e+00, -2.31083772e-01,  6.79309949e+00,  6.07570254e+00,\n",
       "        8.55899966e+00,  3.83827894e-01,  5.34779429e+00,  8.33826213e+00,\n",
       "       -1.60018197e+00,  5.82343109e+00,  6.92186304e+00,  3.22713739e+00,\n",
       "        7.36333808e+00,  8.16277166e-02,  1.63467385e+00,  8.02292282e+00,\n",
       "        7.47370684e+00,  5.66838926e+00,  5.50283612e+00,  9.04137765e-01,\n",
       "        4.22833972e+00,  1.84752788e+00,  4.21520058e+00,  2.80668497e+00,\n",
       "        9.82972594e-01,  6.23600003e+00,  2.02359234e+00,  7.06902139e+00,\n",
       "        3.43999143e+00,  4.44907724e+00, -1.59229848e+00,  8.48804831e+00,\n",
       "        8.58527793e+00,  2.38886038e+00,  5.38195605e+00,  8.68513538e+00,\n",
       "        8.43811958e+00,  8.75871456e+00,  8.50118745e+00,  2.29688641e+00,\n",
       "        7.87576447e+00,  6.17293217e+00,  6.85879518e+00, -1.11928951e+00,\n",
       "        5.50546395e+00,  8.67199624e+00,  3.24027653e+00,  3.63970633e+00,\n",
       "        2.61748138e+00,  5.15596287e+00,  3.46626971e+00, -4.18801821e-02,\n",
       "        3.92876737e+00,  1.96052447e+00,  2.67529359e+00,  2.95121549e+00,\n",
       "        4.32819717e+00,  4.17578317e+00,  2.59645876e+00,  1.70825302e+00,\n",
       "       -8.01322368e-01, -1.07461644e+00,  1.44809808e+00,  3.75795857e+00,\n",
       "        4.56470166e+00,  7.87839230e+00,  4.25724582e+00,  2.12344979e+00,\n",
       "        5.04033846e+00,  1.75029826e+00,  1.34298498e+00, -1.32163224e+00,\n",
       "        4.64353648e+00,  3.80000382e+00,  3.62131154e+00, -4.12403878e-01,\n",
       "        5.10340632e+00, -1.50032452e+00,  1.46912071e+00,  7.58407560e+00,\n",
       "        7.44742857e+00, -1.56864804e+00,  2.78303452e+00,  1.73190347e+00,\n",
       "        2.49660131e+00,  8.43286393e+00,  7.84160271e+00,  8.40133000e+00,\n",
       "        7.90992623e+00,  6.84565604e+00,  7.12683360e+00,  5.82080326e+00,\n",
       "        3.14304691e+00,  5.28209860e+00, -3.83497774e-01,  6.83777256e+00,\n",
       "        6.15190955e+00,  1.09859701e+00, -1.24542524e+00,  8.53009355e+00,\n",
       "        8.33037865e+00,  5.21114725e+00,  7.40275550e+00,  4.06278658e+00,\n",
       "        8.56836868e-01,  4.82485659e+00,  3.02742249e+00,  8.32775082e+00,\n",
       "        1.44695580e-01, -9.87898129e-01,  4.36235893e+00,  7.79167399e+00,\n",
       "       -1.55025324e+00,  8.04920109e+00,  8.41069902e-01,  3.20760031e-01,\n",
       "       -1.15345127e+00,  1.72664781e+00,  8.14117506e+00,  6.44622624e+00,\n",
       "        6.87981780e+00,  4.81171745e+00,  7.95722713e+00,  6.93500218e+00,\n",
       "        5.33465515e+00,  5.71043450e+00,  7.33968763e+00,  6.98230308e+00,\n",
       "        4.02862482e+00,  3.77109771e+00,  8.65360145e+00,  2.59908659e+00,\n",
       "        4.46484421e+00, -1.45302362e+00,  5.88912678e+00,  3.92088389e+00,\n",
       "        1.75818175e+00,  1.10385267e+00,  3.26392698e+00,  7.19252929e+00,\n",
       "        3.75533075e+00,  3.35327312e+00,  7.20189831e-01, -2.08575610e-02,\n",
       "        7.17150667e+00,  3.94716216e+00,  4.13373792e+00,  7.85999751e+00,\n",
       "        3.93927868e+00,  5.41497552e-01,  2.25221334e+00,  5.98372858e+00,\n",
       "        4.85113487e+00,  1.80022699e+00, -1.19024086e+00,  3.49666135e-01,\n",
       "        1.09071353e+00,  2.57806397e+00,  4.66455911e+00, -1.14293996e+00,\n",
       "       -8.91810794e-02, -1.60543762e+00, -4.57076948e-01,  6.03365730e+00,\n",
       "        1.89368649e-01,  1.72139216e+00, -2.02177668e-01,  8.48279265e+00,\n",
       "        2.64638748e+00,  6.46199321e+00, -1.81155047e-01,  8.66936842e+00,\n",
       "        2.10242717e+00,  7.43166160e+00,  5.16121853e+00,  7.88102013e+00,\n",
       "        9.59322145e-01,  4.45433290e+00,  4.61200255e+00,  1.30093974e+00,\n",
       "       -1.28484265e+00,  6.22548872e+00,  5.20326377e+00, -1.02731554e+00,\n",
       "        6.30432355e+00,  7.11164061e-02,  5.83542794e-01,  7.62612085e+00,\n",
       "        7.89941492e+00,  5.82868675e+00,  1.77657654e+00,  2.13133327e+00,\n",
       "        5.70517885e+00,  4.38863720e+00,  5.60006574e+00,  3.45050274e+00,\n",
       "        5.25056467e+00,  2.36520993e+00,  3.74481943e+00,  8.12278027e+00,\n",
       "        2.21016810e+00,  4.46221638e+00,  2.10391271e-01,  2.56492483e+00,\n",
       "        8.54060486e+00, -1.50295235e+00,  1.88431747e+00,  8.81652676e+00,\n",
       "        2.49808685e-01,  2.01570885e+00, -7.51393643e-01,  2.40988300e+00,\n",
       "        7.57356429e+00,  1.24049970e+00,  2.52550741e+00,  6.44359841e+00,\n",
       "        5.67364492e+00,  1.70562519e+00, -1.15607910e+00,  2.90654242e+00,\n",
       "        4.18629448e+00,  1.90271227e+00,  2.25484117e+00, -1.27170351e+00,\n",
       "        5.08238370e+00,  5.25730586e-01,  2.80931280e+00,  4.19155013e+00,\n",
       "        7.08478835e+00,  4.86952966e+00,  6.84885784e-02,  5.96270596e+00,\n",
       "        8.01766716e+00, -1.25856438e+00,  7.68656088e+00,  6.70375335e+00,\n",
       "       -4.80727397e-01,  1.86066702e+00,  1.26300786e-01,  6.73003162e+00,\n",
       "        6.63017417e+00,  4.83799573e+00,  6.29906789e+00, -9.56364198e-01,\n",
       "        2.29163075e+00,  6.80772417e-01, -4.99122190e-01,  6.06519123e+00,\n",
       "        5.93117202e+00, -6.48908365e-01,  2.64375966e+00,  6.13877041e+00,\n",
       "        3.05632860e+00,  2.82245194e+00, -3.75614291e-01,  9.09393420e-01,\n",
       "        7.16887884e+00,  3.39154824e-01,  1.19845446e+00,  6.59601241e+00,\n",
       "        1.18794315e+00,  4.18892230e+00,  6.82726125e+00,  5.99161206e+00,\n",
       "        5.95482247e+00,  8.49067614e+00, -1.43725665e+00,  3.20348694e+00,\n",
       "       -7.71842286e-03,  4.24936234e+00,  1.96840796e+00,  4.70397652e+00,\n",
       "        7.75225657e+00,  4.43068245e+00,  5.15333505e+00,  4.78543918e+00,\n",
       "        2.34041719e-01, -3.86125602e-01,  1.00022510e-01,  5.86810416e+00,\n",
       "        4.89580794e+00, -1.31112093e+00, -4.15031706e-01,  1.11173615e+00,\n",
       "       -4.38682154e-01,  1.85541137e+00,  2.06563758e+00, -2.61132163e-02,\n",
       "        3.57663847e+00,  8.04280315e-01,  5.40560650e+00,  2.76086961e-01,\n",
       "        3.79737599e+00,  5.12591448e-01,  8.81389894e+00, -1.55813673e+00,\n",
       "       -2.49478565e-01, -1.09563906e+00,  3.41371315e+00,  7.11895011e+00,\n",
       "        4.33756619e-01, -1.47141841e+00,  3.32962267e+00,  8.20424293e+00,\n",
       "        3.49254798e+00,  3.06421208e+00, -1.22703044e+00,  7.52889122e+00,\n",
       "        7.43691726e+00,  2.29425858e+00, -1.13242865e+00,  5.43976826e+00,\n",
       "        6.43571493e+00,  7.80629867e-01,  4.04176396e+00,  7.74962875e+00,\n",
       "       -5.07005673e-01, -1.20075217e+00,  4.14687706e+00, -5.09059523e-03,\n",
       "        7.62349302e+00,  1.96315230e+00,  8.90850073e+00,  7.94671582e+00,\n",
       "        2.02096451e+00,  1.82387744e+00,  1.27203363e+00,  4.18366665e+00,\n",
       "        3.81051513e+00,  6.47513234e+00,  5.44765174e+00, -1.12717299e+00,\n",
       "        2.80142932e+00,  5.66050578e+00,  8.64571797e+00,  7.44217291e+00,\n",
       "       -1.56076455e+00,  6.69849769e+00,  5.03245497e+00,  2.31528120e+00,\n",
       "        8.07022372e+00,  4.36498676e+00,  6.46724886e+00,  2.20902581e-01,\n",
       "        7.06639356e+00,  1.05917960e+00,  6.86028072e-01,  4.07855354e+00,\n",
       "        3.01691118e+00,  3.05107294e+00,  5.44502391e+00,  4.70134869e+00,\n",
       "        7.49210164e+00,  1.36812097e-01,  6.77470469e+00,  3.96030130e+00,\n",
       "        2.34944296e+00,  1.49951235e-01, -1.42674534e+00,  4.06804223e+00,\n",
       "       -4.88610879e-01,  7.42377812e+00,  5.08763935e+00,  3.85518820e+00,\n",
       "        6.08095820e+00,  1.95264099e+00,  3.04581728e+00,  2.27323596e+00,\n",
       "        3.88934995e+00,  4.13899358e+00,  5.08501153e+00,  5.85759285e+00,\n",
       "        4.42279896e+00,  6.20183827e+00,  4.25873136e-01,  8.23052120e+00,\n",
       "        8.87696680e+00,  1.47963202e+00,  1.65306864e+00,  5.37670039e+00,\n",
       "        8.98996339e+00,  8.85068852e+00,  3.35064529e+00,  2.16812286e+00,\n",
       "        4.63565300e+00, -9.40597232e-01,  1.93950185e+00,  7.54351590e-01,\n",
       "        4.73551045e+00,  1.04604046e+00,  6.96128046e+00,  5.44239608e+00,\n",
       "        4.15213272e+00,  1.56635033e+00,  5.23479770e+00,  6.52243324e+00,\n",
       "       -1.82297334e-02, -9.93153785e-01,  1.57686164e+00,  1.19057098e+00,\n",
       "        2.30214207e+00,  3.74744726e+00,  1.16429270e+00,  1.44284243e+00,\n",
       "        4.17841099e+00,  1.89745661e+00,  4.96150363e+00, -1.17972955e+00,\n",
       "        1.11436398e+00, -1.06673296e+00,  3.91711377e-01, -1.22440262e+00,\n",
       "        1.27728929e+00,  3.34276181e+00,  1.86855051e+00, -1.23754175e+00,\n",
       "        7.35545460e+00,  2.68843273e+00,  8.55374400e+00, -1.36893314e+00,\n",
       "        6.57498979e+00,  4.67507042e+00,  6.08621385e+00, -9.90525957e-01,\n",
       "        6.34636879e+00,  1.13538660e+00,  8.20047281e-01,  8.79550414e+00,\n",
       "        7.46319553e+00,  6.09146951e+00,  6.23074437e+00,  4.84587921e+00,\n",
       "        7.83897488e+00,  5.32677167e+00,  6.41355002e-01, -1.52134714e+00,\n",
       "       -1.51871931e+00,  2.35732645e+00, -3.25685566e-01,  7.35956797e-01,\n",
       "        5.47130219e+00, -7.93438885e-01,  3.65433101e-01,  8.35928476e+00,\n",
       "        9.00835818e+00,  1.67671909e+00,  6.95339697e+00,  8.98470773e+00,\n",
       "       -1.48455755e+00,  1.87380616e+00,  8.61681186e+00,  1.91059575e+00,\n",
       "        4.25987365e+00,  7.10055532e+00,  7.33705981e+00,  4.74076611e+00,\n",
       "        5.41348998e+00,  3.04318946e+00,  7.76539571e+00,  6.68798638e+00,\n",
       "       -4.28170844e-01,  4.69346521e+00,  3.05370077e+00,  3.71591333e+00,\n",
       "        2.16549503e+00,  5.00937850e-02,  4.99040973e+00,  2.57018048e+00,\n",
       "        4.53842338e+00,  3.03793380e+00,  3.50305929e+00,  1.68985823e+00,\n",
       "        6.45410972e+00,  1.81336613e+00,  7.54991385e+00,  2.87763632e+00,\n",
       "        2.42302214e+00,  4.49523585e-01,  8.96105728e+00,  5.07712804e+00,\n",
       "        8.90324508e+00,  7.24245801e+00,  1.25363884e+00,  8.51432659e+00,\n",
       "        1.81073830e+00,  8.71141366e+00,  2.09979934e+00,  1.32721801e+00,\n",
       "        2.91705373e+00,  1.02239001e+00,  7.85736968e+00,  7.10318315e+00,\n",
       "        4.02599699e+00, -2.73129014e-01,  5.30837688e+00,  4.13111010e+00,\n",
       "        1.93687402e+00,  5.41874564e+00,  2.97486594e+00,  4.42017114e+00,\n",
       "        2.64113183e+00,  8.31986734e+00,  2.08403237e+00, -1.16921824e+00,\n",
       "        2.09454368e+00,  4.09169268e+00,  7.73123395e+00,  8.17008117e+00,\n",
       "        9.90856077e-01,  4.32294151e+00, -1.18235737e+00,  6.70112552e+00,\n",
       "       -3.28313394e-01,  6.85616735e+00,  4.48381298e-02,  3.14041908e+00,\n",
       "        6.28067310e+00,  9.30416042e-01,  5.20589160e+00,  1.91996477e-01,\n",
       "        2.42564996e+00,  9.67205628e-01,  8.02555065e+00,  6.38315838e+00,\n",
       "        5.64211098e+00,  3.50568712e+00,  3.15881387e+00, -3.78242119e-01,\n",
       "        1.57834718e-01,  4.10106171e-01,  7.22143539e+00,  7.70758350e+00,\n",
       "        1.28517277e+00,  1.59525643e+00, -1.47667407e+00,  2.43878910e+00,\n",
       "        8.21475424e+00, -9.48480715e-01,  6.74579859e+00,  1.09334135e+00,\n",
       "        3.78160902e+00,  4.88529663e+00, -1.04833816e+00,  8.10438548e+00,\n",
       "        6.81674994e+00, -1.40572272e+00,  8.96368511e+00,  6.14928172e+00,\n",
       "        8.90587290e+00,  8.52483790e+00,  5.21640291e+00,  6.32329232e-02,\n",
       "        7.63663216e+00,  8.03343413e+00,  8.67987973e+00,  3.43473577e+00,\n",
       "        7.12946142e+00,  5.66313361e+00,  8.59841707e+00,  2.22593506e+00,\n",
       "       -6.06863123e-01, -6.96209262e-01,  8.72718062e+00,  3.67649592e+00,\n",
       "        2.76463973e+00,  6.72477597e+00,  2.11876811e-02,  6.54608369e+00,\n",
       "        7.39749984e+00,  2.62947823e-01,  3.97344044e+00,  1.43233112e+00,\n",
       "        4.27826844e+00,  7.86262533e+00,  3.16144170e+00,  3.78572239e-01,\n",
       "        3.99594860e-01,  1.13013094e+00,  5.33614069e-01,  7.89998890e-02,\n",
       "        3.11939646e+00, -1.05622165e+00,  4.04701961e+00,  7.35808243e+00,\n",
       "        7.18464580e+00,  8.74557542e+00,  4.71974349e+00,  7.50261295e+00,\n",
       "        3.56349933e+00,  5.77350237e+00,  4.39652069e+00,  1.36400760e+00,\n",
       "        4.00760220e+00,  6.73265945e+00,  5.47393002e+00,  1.38765805e+00,\n",
       "        7.17413449e+00,  2.96698246e+00,  1.73715912e+00,  4.65290551e-01,\n",
       "        4.68295390e+00,  7.35019895e+00, -1.63959938e+00,  3.83679340e+00,\n",
       "        8.63783448e+00,  6.62491852e+00,  8.51958224e+00,  6.93237435e+00,\n",
       "       -9.69503336e-01,  5.62634402e+00,  2.00519754e+00,  4.97727059e+00,\n",
       "        5.48969698e+00,  6.67633278e-01,  8.21738206e+00,  5.76561888e+00,\n",
       "       -1.17710172e+00, -6.51536193e-01,  7.64714347e+00,  6.11774779e+00,\n",
       "        2.22856289e+00,  2.57543614e+00,  5.35304995e+00,  8.82178242e+00,\n",
       "       -2.46276760e-03,  2.33893165e+00, -1.05884948e+00,  4.29403541e+00,\n",
       "        1.03552915e+00,  3.45575840e+00,  8.41709696e+00,  7.85885522e-01,\n",
       "        4.86427401e+00,  5.91803289e+00,  7.57619212e+00,  9.73946824e-02,\n",
       "        2.55178569e+00, -1.18087183e-01,  8.70353018e+00,  2.39411603e+00,\n",
       "        5.33202732e+00,  5.27216127e-02,  8.64720351e-01, -1.57504598e-01,\n",
       "        7.24771367e+00,  4.99566539e+00,  1.39291370e+00,  7.37910505e+00,\n",
       "        6.51866313e-01,  8.40395783e+00,  6.19658261e+00,  9.01624166e+00,\n",
       "        2.77515104e+00,  4.80646180e+00,  3.62656719e+00,  8.00978368e+00,\n",
       "       -9.72131164e-01,  6.49352714e+00,  2.60319996e-01,  3.21137043e+00,\n",
       "        4.30717455e+00,  1.65832430e+00,  7.65502695e+00,  5.02194366e+00,\n",
       "        1.77132088e+00,  1.62153471e+00,  3.32436701e+00,  2.93544852e+00,\n",
       "        5.06924456e+00,  6.50403845e+00,  8.41184131e+00,  3.62805273e-01,\n",
       "        3.10362949e+00,  6.26753396e+00,  7.23983018e+00,  6.05205210e+00,\n",
       "        3.31385570e+00,  5.59892346e-01,  2.03147582e+00,  1.80811047e+00,\n",
       "        1.30619539e+00,  2.07763443e-01,  4.77230004e+00,  7.84423054e+00,\n",
       "        1.85015571e+00, -8.69645886e-01,  4.35184762e+00,  5.14807939e+00,\n",
       "        9.35671697e-01,  4.33870848e+00,  6.23337220e+00,  5.25582032e+00,\n",
       "       -1.07987210e+00,  8.08599068e+00,  4.26250148e+00,  1.52167726e+00,\n",
       "        7.09529966e+00,  4.25461800e+00,  5.17847103e-01,  3.52933757e+00,\n",
       "        3.48466450e+00])"
      ]
     },
     "execution_count": 18,
     "metadata": {},
     "output_type": "execute_result"
    }
   ],
   "source": [
    "y_pred"
   ]
  },
  {
   "cell_type": "code",
   "execution_count": 19,
   "id": "69d80804-a28f-4064-a5e7-f299110795e2",
   "metadata": {},
   "outputs": [
    {
     "data": {
      "text/plain": [
       "array([13.3175  ,  0.7585  ,  1.5415  ,  0.785   ,  0.6405  ,  1.726   ,\n",
       "        9.9635  ,  3.29375 ,  7.9335  ,  9.2215  ,  2.4415  ,  2.767188,\n",
       "        0.36875 ,  2.0025  ,  3.796   ,  2.461   ,  0.257552,  2.334   ,\n",
       "        3.96    ,  8.2305  ,  2.122   ,  9.62    ,  5.942   ,  1.1045  ,\n",
       "        0.958   ,  4.0305  ,  2.082   ,  0.53    ,  1.9255  ,  4.226   ,\n",
       "        4.668   ,  1.091   ,  0.216927,  0.226042,  9.416   ,  3.733   ,\n",
       "        0.781   , 13.206   ,  0.095573,  1.775   ,  1.5805  ,  3.101563,\n",
       "        5.904   ,  2.5795  , 12.197   ,  2.528125,  4.5375  , 11.133   ,\n",
       "        0.084375,  4.0405  ,  7.0865  ,  1.9715  ,  9.0545  ,  4.99375 ,\n",
       "        0.816   ,  8.864   ,  8.6645  ,  4.0315  ,  3.2045  ,  0.5125  ,\n",
       "        1.807   ,  0.726   ,  1.7625  ,  2.293   ,  0.8555  ,  3.8625  ,\n",
       "        1.2055  ,  6.005   ,  2.019   ,  1.3045  ,  0.080208, 12.957   ,\n",
       "       11.607   ,  1.779   ,  4.632   , 12.4155  , 11.6375  , 13.0115  ,\n",
       "       13.0635  ,  1.4715  , 10.975   ,  3.479   ,  6.7365  ,  0.317708,\n",
       "        3.1735  , 12.8995  ,  2.048   ,  1.6925  ,  2.7255  ,  3.811   ,\n",
       "        1.7845  ,  3.979688,  2.2325  ,  0.9295  ,  2.6235  ,  2.3485  ,\n",
       "        1.8035  ,  1.843   ,  2.9955  ,  0.854   ,  1.080729,  0.340365,\n",
       "        0.508   ,  1.8595  ,  1.638   , 11.0755  ,  1.8445  ,  1.081   ,\n",
       "        3.374   ,  0.7605  ,  0.43    ,  0.233073,  2.13    ,  2.2965  ,\n",
       "        1.6605  ,  3.496875,  3.927   ,  0.120833,  0.7095  ,  9.7535  ,\n",
       "        9.4625  ,  0.075521,  2.787   ,  0.767   ,  2.188   , 11.719   ,\n",
       "       11.965   , 11.3005  , 11.8805  ,  6.638   ,  6.3785  ,  4.171   ,\n",
       "        1.8145  ,  4.2185  ,  4.610938,  6.5565  ,  3.0995  ,  0.7635  ,\n",
       "        0.214583, 12.6005  , 10.7365  ,  4.669   ,  9.3435  ,  2.3575  ,\n",
       "        0.596875,  1.957   ,  2.512   , 10.821   ,  3.240625,  0.380729,\n",
       "        1.748   ,  8.9465  ,  0.1     ,  8.967   ,  0.6875  ,  2.80625 ,\n",
       "        0.265104,  0.8765  ,  9.002   ,  4.222   ,  6.7435  ,  2.063   ,\n",
       "       10.226   ,  6.4355  ,  4.7205  ,  3.6665  ,  8.697   ,  6.3155  ,\n",
       "        2.4535  ,  1.8975  , 12.3885  ,  2.9275  ,  1.3245  ,  0.115885,\n",
       "        3.2615  ,  2.131   ,  0.748   ,  0.7905  ,  1.9635  ,  8.0365  ,\n",
       "        1.8575  ,  1.9745  ,  1.18125 ,  4.0625  ,  7.2875  ,  1.953   ,\n",
       "        1.8995  , 11.2105  ,  2.3465  ,  2.146875,  1.326   ,  2.1095  ,\n",
       "        1.904   ,  0.708   ,  0.253646,  3.05    ,  0.7075  ,  2.6445  ,\n",
       "        2.046   ,  0.257292,  3.1375  ,  0.077083,  3.032813,  2.554   ,\n",
       "        3.2375  ,  0.915   ,  3.003125, 12.311   ,  2.599   ,  4.106   ,\n",
       "        2.501563, 13.02    ,  1.1135  ,  8.6855  ,  3.934   , 11.237   ,\n",
       "        0.7995  ,  1.3645  ,  1.9075  ,  0.3525  ,  0.213021,  3.9885  ,\n",
       "        4.6295  ,  0.38776 ,  3.782   ,  4.825   ,  2.071875,  9.9325  ,\n",
       "       12.194   ,  4.0385  ,  0.7645  ,  1.0925  ,  3.815   ,  1.926   ,\n",
       "        3.9315  ,  2.111   ,  4.4925  ,  1.7035  ,  1.7795  ,  9.113   ,\n",
       "        1.3275  ,  1.3105  ,  3.128125,  2.428   , 12.9255  ,  0.119792,\n",
       "        0.8675  , 13.7065  ,  3.384375,  1.17    ,  0.664063,  1.896   ,\n",
       "        9.2945  ,  0.3175  ,  2.326   ,  4.266   ,  3.981   ,  0.857   ,\n",
       "        0.242708,  2.3045  ,  1.811   ,  0.8575  ,  1.253   ,  0.225   ,\n",
       "        3.6675  ,  1.825   ,  2.2795  ,  1.8455  ,  5.8565  ,  1.949   ,\n",
       "        4.78125 ,  2.2465  ,  8.7175  ,  0.234375,  9.708   ,  6.9705  ,\n",
       "        2.3375  ,  0.7415  ,  3.2125  ,  6.4555  ,  6.5625  ,  1.918   ,\n",
       "        3.8985  ,  0.367188,  1.4345  ,  1.446875,  2.896875,  2.596   ,\n",
       "        2.802   ,  1.091667,  2.7155  ,  3.0855  ,  2.59    ,  2.2435  ,\n",
       "        4.18125 ,  0.509375,  7.2535  ,  2.74375 ,  0.4985  ,  6.129   ,\n",
       "        0.51    ,  1.8095  ,  6.441   ,  2.0235  ,  2.423   , 12.8545  ,\n",
       "        0.125   ,  2.1105  ,  3.321875,  1.831   ,  0.968   ,  1.971   ,\n",
       "       11.126   ,  1.7155  ,  3.9325  ,  1.9135  ,  3.1875  ,  4.571875,\n",
       "        3.80625 ,  3.498   ,  2.083   ,  0.188542,  3.092188,  0.8245  ,\n",
       "        3.371875,  0.747   ,  1.094   ,  3.93125 ,  1.73    ,  1.09375 ,\n",
       "        4.1435  ,  3.2125  ,  2.283   ,  1.878125, 13.562   ,  0.075781,\n",
       "        2.94375 ,  0.327865,  2.116   ,  6.3035  ,  1.85    ,  0.102083,\n",
       "        1.9025  ,  9.6995  ,  1.736   ,  2.72    ,  0.242448,  8.731   ,\n",
       "        8.8215  ,  1.433   ,  0.270313,  3.7315  ,  4.29    ,  0.825   ,\n",
       "        2.4185  , 11.195   ,  2.75625 ,  0.24375 ,  1.9575  ,  3.290625,\n",
       "        9.94    ,  0.9285  , 12.4115  , 10.8695  ,  1.1675  ,  0.6955  ,\n",
       "        0.4035  ,  1.806   ,  2.252   ,  4.2095  ,  3.4245  ,  0.274479,\n",
       "        2.302   ,  4.0055  , 12.698   ,  9.265   ,  0.077083,  6.9235  ,\n",
       "        3.4835  ,  1.6475  ,  9.3045  ,  1.7545  ,  4.2045  ,  3.18125 ,\n",
       "        5.997   ,  0.706   ,  1.390625,  2.2825  ,  2.47    ,  2.5405  ,\n",
       "        3.6045  ,  1.963   ,  8.4525  ,  3.103125,  5.8415  ,  2.078   ,\n",
       "        1.77    ,  3.084375,  0.157813,  2.3625  ,  2.746875,  8.482   ,\n",
       "        3.587   ,  2.148   ,  2.527   ,  0.9875  ,  2.4885  ,  1.2625  ,\n",
       "        2.158   ,  1.893   ,  3.5815  ,  3.825   ,  1.724   ,  3.526   ,\n",
       "        1.89375 ,  9.555   , 13.386   ,  0.563   ,  0.866   ,  4.7125  ,\n",
       "       13.6995  , 13.0805  ,  2.0045  ,  1.089   ,  1.963   ,  0.385417,\n",
       "        0.9745  ,  0.846875,  1.889   ,  0.7995  ,  5.9855  ,  3.6975  ,\n",
       "        1.9145  ,  0.7415  ,  4.733   ,  4.528   ,  3.796875,  0.384896,\n",
       "        0.7125  ,  0.4815  ,  1.544   ,  1.8155  ,  0.523   ,  0.4565  ,\n",
       "        1.8465  ,  0.7965  ,  3.085   ,  0.2375  ,  0.849   ,  0.357813,\n",
       "        2.609375,  0.251042,  0.478   ,  1.984   ,  0.8255  ,  0.23125 ,\n",
       "        9.238   ,  2.5755  , 12.118   ,  0.2     ,  4.734   ,  1.955   ,\n",
       "        2.5315  ,  0.361979,  4.1075  ,  0.5755  ,  0.8125  , 13.2135  ,\n",
       "        9.021   ,  2.422   ,  3.861   ,  1.9405  , 11.339   ,  4.4575  ,\n",
       "        1.478125,  0.106771,  0.114583,  1.776   ,  3.573438,  1.134375,\n",
       "        3.682   ,  1.060417,  2.275   , 11.0655  , 13.6045  ,  0.9735  ,\n",
       "        6.4455  , 13.5835  ,  0.116406,  0.8555  , 11.4855  ,  0.8475  ,\n",
       "        1.817   ,  6.3915  ,  8.7125  ,  1.87    ,  4.006   ,  2.48    ,\n",
       "       10.135   ,  6.424   ,  3.275   ,  1.925   ,  2.551   ,  1.7715  ,\n",
       "        1.068   ,  4.328125,  3.493   ,  2.4215  ,  1.606   ,  2.5285  ,\n",
       "        1.759   ,  0.898   ,  4.23    ,  0.695   ,  9.2355  ,  2.1505  ,\n",
       "        1.8825  ,  1.753125, 13.3415  ,  3.6895  , 12.487   ,  8.2485  ,\n",
       "        0.338   , 12.8735  ,  0.68    , 13.397   ,  1.137   ,  0.3525  ,\n",
       "        2.405   ,  0.78    , 11.4925  ,  6.416   ,  2.437   ,  2.898438,\n",
       "        3.959   ,  1.9085  ,  0.947   ,  3.924   ,  2.135   ,  1.6745  ,\n",
       "        2.7495  , 10.94    ,  1.035   ,  0.259896,  1.066   ,  2.216   ,\n",
       "       10.903   ,  9.2525  ,  0.846   ,  1.7595  ,  0.240625,  6.9655  ,\n",
       "        3.709375,  6.402   ,  4.25    ,  1.828   ,  3.9305  ,  0.4315  ,\n",
       "        4.674   ,  3.178125,  1.9635  ,  0.784   ,  8.8135  ,  3.7815  ,\n",
       "        3.963   ,  1.7695  ,  1.9755  ,  4.2     ,  3.471875,  2.30625 ,\n",
       "        7.6515  , 10.7095  ,  0.4005  ,  0.637   ,  0.107813,  1.7665  ,\n",
       "        9.3985  ,  0.352083,  6.0715  ,  0.7265  ,  2.2575  ,  2.021   ,\n",
       "        0.369271,  9.249   ,  6.2945  ,  0.23125 , 13.46    ,  3.2395  ,\n",
       "       12.6905  , 12.8295  ,  4.6705  ,  5.334375,  9.75    ,  8.655   ,\n",
       "       12.931   ,  2.118   ,  6.388   ,  4.075   , 11.3675  ,  1.345   ,\n",
       "        1.591667,  0.88125 , 13.5095  ,  1.8205  ,  2.809   ,  6.5155  ,\n",
       "        3.825   ,  4.4925  ,  9.4375  ,  3.325   ,  2.109   ,  0.552   ,\n",
       "        1.7295  , 11.4855  ,  1.9725  ,  2.89375 ,  2.321875,  0.8015  ,\n",
       "        1.996875,  4.85    ,  1.946   ,  0.3875  ,  2.4485  ,  9.1295  ,\n",
       "        7.5365  , 13.275   ,  2.0105  ,  8.254   ,  1.7005  ,  3.7855  ,\n",
       "        1.8555  ,  0.5245  ,  2.423   ,  6.3675  ,  3.495   ,  0.55    ,\n",
       "        7.2725  ,  2.157   ,  0.793   ,  2.015625,  1.906   ,  9.1645  ,\n",
       "        0.086458,  2.1395  , 12.6025  ,  6.6485  , 12.623   ,  6.5465  ,\n",
       "        0.369792,  3.71    ,  1.145   ,  3.444   ,  3.2235  ,  1.846875,\n",
       "        9.5345  ,  3.9105  ,  0.238542,  1.055208,  9.6825  ,  3.1655  ,\n",
       "        1.388   ,  2.5045  ,  4.62    , 13.287   ,  3.153125,  1.7425  ,\n",
       "        0.396094,  1.742   ,  0.8345  ,  2.124   , 11.665   ,  0.884375,\n",
       "        1.99    ,  2.5115  ,  9.271   ,  3.953125,  2.379   ,  3.003125,\n",
       "       13.319   ,  1.7695  ,  4.5455  ,  4.3875  ,  0.5875  ,  2.29375 ,\n",
       "        8.45    ,  3.429   ,  0.543   ,  9.371   ,  1.64375 , 11.152   ,\n",
       "        3.62    , 13.8845  ,  2.859   ,  2.0165  ,  1.698   ,  9.063   ,\n",
       "        0.369271,  3.923   ,  3.3125  ,  2.1635  ,  1.638   ,  0.997   ,\n",
       "        9.3775  ,  3.62    ,  0.808   ,  0.841   ,  2.0185  ,  2.26    ,\n",
       "        3.6395  ,  4.1925  , 11.866   ,  2.428125,  2.291   ,  3.9885  ,\n",
       "        7.9335  ,  2.703   ,  2.023   ,  2.11875 ,  1.129   ,  0.687   ,\n",
       "        0.349   ,  3.29375 ,  1.8525  , 12.0845  ,  0.7285  ,  0.944792,\n",
       "        1.689   ,  3.865   ,  0.456   ,  1.738   ,  3.7355  ,  4.5645  ,\n",
       "        0.349219,  9.722   ,  1.8015  ,  0.7695  ,  6.121   ,  1.814   ,\n",
       "        1.9125  ,  1.73    ,  1.783   ])"
      ]
     },
     "execution_count": 19,
     "metadata": {},
     "output_type": "execute_result"
    }
   ],
   "source": [
    "y_test.values"
   ]
  },
  {
   "cell_type": "code",
   "execution_count": 20,
   "id": "9f2dcf66-9386-429a-bc51-051997a64a40",
   "metadata": {},
   "outputs": [
    {
     "data": {
      "text/plain": [
       "array([0.00262783])"
      ]
     },
     "execution_count": 20,
     "metadata": {},
     "output_type": "execute_result"
    }
   ],
   "source": [
    "linearreg.coef_"
   ]
  },
  {
   "cell_type": "code",
   "execution_count": 21,
   "id": "ab73dd66-de11-4e18-8866-f93d3de8a52d",
   "metadata": {},
   "outputs": [
    {
     "data": {
      "text/plain": [
       "-1.6422272095861268"
      ]
     },
     "execution_count": 21,
     "metadata": {},
     "output_type": "execute_result"
    }
   ],
   "source": [
    "linearreg.intercept_"
   ]
  },
  {
   "cell_type": "code",
   "execution_count": 22,
   "id": "5a08b74a-a569-4c96-8bb9-b479b313b9bf",
   "metadata": {},
   "outputs": [
    {
     "data": {
      "text/plain": [
       "0.4985160977976304"
      ]
     },
     "execution_count": 22,
     "metadata": {},
     "output_type": "execute_result"
    }
   ],
   "source": [
    "#mean square error\n",
    "mse=mean_squared_error(y_pred,y_test)\n",
    "r2=r2_score(y_pred,y_test)\n",
    "mse\n",
    "r2"
   ]
  },
  {
   "cell_type": "code",
   "execution_count": 26,
   "id": "af282f5b-01bb-4a0b-938a-557450050e10",
   "metadata": {},
   "outputs": [
    {
     "data": {
      "text/plain": [
       "Text(0, 0.5, 'Closing Price')"
      ]
     },
     "execution_count": 26,
     "metadata": {},
     "output_type": "execute_result"
    },
    {
     "data": {
      "image/png": "[encoded data removed]",
      "text/plain": [
       "<Figure size 640x480 with 1 Axes>"
      ]
     },
     "metadata": {},
     "output_type": "display_data"
    }
   ],
   "source": [
    "plt.figure()\n",
    "plt.scatter(X_test,y_test)\n",
    "plt.plot(X_test,y_pred,color='red')\n",
    "plt.xlabel(\"Days\")\n",
    "plt.ylabel(\"Closing Price\")"
   ]
  },
  {
   "cell_type": "code",
   "execution_count": null,
   "id": "68aae855-a26e-44fa-a6eb-d6bc4b75c045",
   "metadata": {},
   "outputs": [],
   "source": []
  }
 ],
 "metadata": {
  "kernelspec": {
   "display_name": "Python 3 (ipykernel)",
   "language": "python",
   "name": "python3"
  },
  "language_info": {
   "codemirror_mode": {
    "name": "ipython",
    "version": 3
   },
   "file_extension": ".py",
   "mimetype": "text/x-python",
   "name": "python",
   "nbconvert_exporter": "python",
   "pygments_lexer": "ipython3",
   "version": "3.11.7"
  }
 },
 "nbformat": 4,
 "nbformat_minor": 5
}
